{
 "cells": [
  {
   "cell_type": "markdown",
   "id": "8cebfff3",
   "metadata": {},
   "source": [
    "# Upload MoveNet SavedModel to Google Cloud Storage\n",
    "\n",
    "This notebook assumes you have exported `saved_model/` and guides you through uploading it to a Google Cloud Storage (GCS) bucket using the `google-cloud-storage` Python library."
   ]
  },
  {
   "cell_type": "code",
   "execution_count": 1,
   "id": "61f86586",
   "metadata": {},
   "outputs": [],
   "source": [
    "# !pip install google-cloud-storage"
   ]
  },
  {
   "cell_type": "markdown",
   "id": "7488be26",
   "metadata": {},
   "source": [
    "## (Optional) Authenticate\n",
    "If you are running this **locally**, make sure you have authenticated using the Google Cloud SDK:\n",
    "```\n",
    "gcloud auth application-default login\n",
    "```\n",
    "Or set the `GOOGLE_APPLICATION_CREDENTIALS` environment variable to a service account JSON file."
   ]
  },
  {
   "cell_type": "code",
   "execution_count": 2,
   "id": "970d10bf",
   "metadata": {},
   "outputs": [],
   "source": [
    "import os\n",
    "import config  # import your config file\n",
    "\n",
    "BUCKET_NAME = config.BUCKET_NAME\n",
    "GCS_MODEL_DIR = config.GCS_MODEL_DIR  # relative path, e.g., \"movenet/saved_model\"\n",
    "LOCAL_MODEL_DIR = config.LOCAL_MODEL_DIR  # e.g., \"../models/movenet/saved_model\""
   ]
  },
  {
   "cell_type": "code",
   "execution_count": 3,
   "id": "a65cb7fe",
   "metadata": {},
   "outputs": [],
   "source": [
    "from google.cloud import storage\n",
    "\n",
    "def upload_directory_to_gcs(local_path, bucket_name, gcs_path):\n",
    "    client = storage.Client()\n",
    "    bucket = client.get_bucket(bucket_name)\n",
    "    for root, _, files in os.walk(local_path):\n",
    "        for file in files:\n",
    "            local_file = os.path.join(root, file)\n",
    "            rel_path = os.path.relpath(local_file, local_path)\n",
    "            blob = bucket.blob(os.path.join(gcs_path, rel_path))\n",
    "            blob.upload_from_filename(local_file)\n",
    "            print(f\"Uploaded {local_file} to gs://{bucket_name}/{gcs_path}/{rel_path}\")"
   ]
  },
  {
   "cell_type": "code",
   "execution_count": 4,
   "id": "fb494313",
   "metadata": {},
   "outputs": [
    {
     "name": "stderr",
     "output_type": "stream",
     "text": [
      "/Users/jin-holee/github/Jin-HoMLee/shuttle-insights/.venv/lib/python3.11/site-packages/google/auth/_default.py:76: UserWarning: Your application has authenticated using end user credentials from Google Cloud SDK without a quota project. You might receive a \"quota exceeded\" or \"API not enabled\" error. See the following page for troubleshooting: https://cloud.google.com/docs/authentication/adc-troubleshooting/user-creds. \n",
      "  warnings.warn(_CLOUD_SDK_CREDENTIALS_WARNING)\n",
      "/Users/jin-holee/github/Jin-HoMLee/shuttle-insights/.venv/lib/python3.11/site-packages/google/auth/_default.py:76: UserWarning: Your application has authenticated using end user credentials from Google Cloud SDK without a quota project. You might receive a \"quota exceeded\" or \"API not enabled\" error. See the following page for troubleshooting: https://cloud.google.com/docs/authentication/adc-troubleshooting/user-creds. \n",
      "  warnings.warn(_CLOUD_SDK_CREDENTIALS_WARNING)\n"
     ]
    },
    {
     "name": "stdout",
     "output_type": "stream",
     "text": [
      "Uploaded ../models/movenet/saved_model/fingerprint.pb to gs://jinhomlee-movenet-2024/movenet/saved_model/fingerprint.pb\n",
      "Uploaded ../models/movenet/saved_model/saved_model.pb to gs://jinhomlee-movenet-2024/movenet/saved_model/saved_model.pb\n",
      "Uploaded ../models/movenet/saved_model/variables/variables.data-00000-of-00001 to gs://jinhomlee-movenet-2024/movenet/saved_model/variables/variables.data-00000-of-00001\n",
      "Uploaded ../models/movenet/saved_model/variables/variables.index to gs://jinhomlee-movenet-2024/movenet/saved_model/variables/variables.index\n"
     ]
    }
   ],
   "source": [
    "# Run the upload\n",
    "upload_directory_to_gcs(LOCAL_MODEL_DIR, BUCKET_NAME, GCS_MODEL_DIR)"
   ]
  },
  {
   "cell_type": "markdown",
   "id": "a7939062",
   "metadata": {},
   "source": [
    "## Result"
   ]
  },
  {
   "cell_type": "code",
   "execution_count": 5,
   "id": "03c04fbf",
   "metadata": {},
   "outputs": [
    {
     "name": "stdout",
     "output_type": "stream",
     "text": [
      "Your SavedModel is now in: gs://jinhomlee-movenet-2024/movenet/saved_model/\n",
      "You can use this path for Vertex AI deployment.\n"
     ]
    }
   ],
   "source": [
    "print(f\"Your SavedModel is now in: gs://{BUCKET_NAME}/{GCS_MODEL_DIR}/\")\n",
    "print(\"You can use this path for Vertex AI deployment.\")"
   ]
  }
 ],
 "metadata": {
  "kernelspec": {
   "display_name": ".venv",
   "language": "python",
   "name": "python3"
  },
  "language_info": {
   "codemirror_mode": {
    "name": "ipython",
    "version": 3
   },
   "file_extension": ".py",
   "mimetype": "text/x-python",
   "name": "python",
   "nbconvert_exporter": "python",
   "pygments_lexer": "ipython3",
   "version": "3.11.3"
  }
 },
 "nbformat": 4,
 "nbformat_minor": 5
}
