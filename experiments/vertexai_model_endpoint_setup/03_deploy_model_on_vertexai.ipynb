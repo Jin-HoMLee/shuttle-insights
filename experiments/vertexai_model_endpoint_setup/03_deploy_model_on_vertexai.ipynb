{
 "cells": [
  {
   "cell_type": "markdown",
   "metadata": {},
   "source": [
    "# 03: Deploy Model on Vertex AI\n",
    "\n",
    "This notebook demonstrates how to deploy a TensorFlow SavedModel from Google Cloud Storage (GCS) to Vertex AI for serving."
   ]
  },
  {
   "cell_type": "markdown",
   "metadata": {},
   "source": [
    "## Prerequisites\n",
    "\n",
    "- You have uploaded your model to GCS (e.g. `gs://jinhomlee-movenet-2024/movenet/saved_model/`).\n",
    "- Vertex AI and the Vertex AI API are enabled in your Google Cloud project.\n",
    "- You have installed `google-cloud-aiplatform` in your environment.\n",
    "- Your environment is authenticated to use GCP (see [Google ADC Troubleshooting](https://cloud.google.com/docs/authentication/adc-troubleshooting/user-creds))."
   ]
  },
  {
   "cell_type": "code",
   "execution_count": 1,
   "metadata": {},
   "outputs": [
    {
     "name": "stdout",
     "output_type": "stream",
     "text": [
      "Requirement already satisfied: google-cloud-aiplatform in /Users/jin-holee/github/Jin-HoMLee/shuttle-insights/.venv/lib/python3.11/site-packages (1.109.0)\n",
      "Requirement already satisfied: google-api-core!=2.0.*,!=2.1.*,!=2.2.*,!=2.3.*,!=2.4.*,!=2.5.*,!=2.6.*,!=2.7.*,<3.0.0,>=1.34.1 in /Users/jin-holee/github/Jin-HoMLee/shuttle-insights/.venv/lib/python3.11/site-packages (from google-api-core[grpc]!=2.0.*,!=2.1.*,!=2.2.*,!=2.3.*,!=2.4.*,!=2.5.*,!=2.6.*,!=2.7.*,<3.0.0,>=1.34.1->google-cloud-aiplatform) (2.25.1)\n",
      "Requirement already satisfied: google-auth<3.0.0,>=2.14.1 in /Users/jin-holee/github/Jin-HoMLee/shuttle-insights/.venv/lib/python3.11/site-packages (from google-cloud-aiplatform) (2.40.3)\n",
      "Requirement already satisfied: proto-plus<2.0.0,>=1.22.3 in /Users/jin-holee/github/Jin-HoMLee/shuttle-insights/.venv/lib/python3.11/site-packages (from google-cloud-aiplatform) (1.26.1)\n",
      "Requirement already satisfied: protobuf!=4.21.0,!=4.21.1,!=4.21.2,!=4.21.3,!=4.21.4,!=4.21.5,<7.0.0,>=3.20.2 in /Users/jin-holee/github/Jin-HoMLee/shuttle-insights/.venv/lib/python3.11/site-packages (from google-cloud-aiplatform) (6.32.0)\n",
      "Requirement already satisfied: packaging>=14.3 in /Users/jin-holee/github/Jin-HoMLee/shuttle-insights/.venv/lib/python3.11/site-packages (from google-cloud-aiplatform) (25.0)\n",
      "Requirement already satisfied: google-cloud-storage<3.0.0,>=1.32.0 in /Users/jin-holee/github/Jin-HoMLee/shuttle-insights/.venv/lib/python3.11/site-packages (from google-cloud-aiplatform) (2.19.0)\n",
      "Requirement already satisfied: google-cloud-bigquery!=3.20.0,<4.0.0,>=1.15.0 in /Users/jin-holee/github/Jin-HoMLee/shuttle-insights/.venv/lib/python3.11/site-packages (from google-cloud-aiplatform) (3.35.1)\n",
      "Requirement already satisfied: google-cloud-resource-manager<3.0.0,>=1.3.3 in /Users/jin-holee/github/Jin-HoMLee/shuttle-insights/.venv/lib/python3.11/site-packages (from google-cloud-aiplatform) (1.14.2)\n",
      "Requirement already satisfied: shapely<3.0.0 in /Users/jin-holee/github/Jin-HoMLee/shuttle-insights/.venv/lib/python3.11/site-packages (from google-cloud-aiplatform) (2.1.1)\n",
      "Requirement already satisfied: google-genai<2.0.0,>=1.0.0 in /Users/jin-holee/github/Jin-HoMLee/shuttle-insights/.venv/lib/python3.11/site-packages (from google-cloud-aiplatform) (1.30.0)\n",
      "Requirement already satisfied: pydantic<3 in /Users/jin-holee/github/Jin-HoMLee/shuttle-insights/.venv/lib/python3.11/site-packages (from google-cloud-aiplatform) (2.11.7)\n",
      "Requirement already satisfied: typing_extensions in /Users/jin-holee/github/Jin-HoMLee/shuttle-insights/.venv/lib/python3.11/site-packages (from google-cloud-aiplatform) (4.14.0)\n",
      "Requirement already satisfied: docstring_parser<1 in /Users/jin-holee/github/Jin-HoMLee/shuttle-insights/.venv/lib/python3.11/site-packages (from google-cloud-aiplatform) (0.17.0)\n",
      "Requirement already satisfied: googleapis-common-protos<2.0.0,>=1.56.2 in /Users/jin-holee/github/Jin-HoMLee/shuttle-insights/.venv/lib/python3.11/site-packages (from google-api-core!=2.0.*,!=2.1.*,!=2.2.*,!=2.3.*,!=2.4.*,!=2.5.*,!=2.6.*,!=2.7.*,<3.0.0,>=1.34.1->google-api-core[grpc]!=2.0.*,!=2.1.*,!=2.2.*,!=2.3.*,!=2.4.*,!=2.5.*,!=2.6.*,!=2.7.*,<3.0.0,>=1.34.1->google-cloud-aiplatform) (1.70.0)\n",
      "Requirement already satisfied: requests<3.0.0,>=2.18.0 in /Users/jin-holee/github/Jin-HoMLee/shuttle-insights/.venv/lib/python3.11/site-packages (from google-api-core!=2.0.*,!=2.1.*,!=2.2.*,!=2.3.*,!=2.4.*,!=2.5.*,!=2.6.*,!=2.7.*,<3.0.0,>=1.34.1->google-api-core[grpc]!=2.0.*,!=2.1.*,!=2.2.*,!=2.3.*,!=2.4.*,!=2.5.*,!=2.6.*,!=2.7.*,<3.0.0,>=1.34.1->google-cloud-aiplatform) (2.32.3)\n",
      "Requirement already satisfied: grpcio<2.0.0,>=1.33.2 in /Users/jin-holee/github/Jin-HoMLee/shuttle-insights/.venv/lib/python3.11/site-packages (from google-api-core[grpc]!=2.0.*,!=2.1.*,!=2.2.*,!=2.3.*,!=2.4.*,!=2.5.*,!=2.6.*,!=2.7.*,<3.0.0,>=1.34.1->google-cloud-aiplatform) (1.74.0)\n",
      "Requirement already satisfied: grpcio-status<2.0.0,>=1.33.2 in /Users/jin-holee/github/Jin-HoMLee/shuttle-insights/.venv/lib/python3.11/site-packages (from google-api-core[grpc]!=2.0.*,!=2.1.*,!=2.2.*,!=2.3.*,!=2.4.*,!=2.5.*,!=2.6.*,!=2.7.*,<3.0.0,>=1.34.1->google-cloud-aiplatform) (1.74.0)\n",
      "Requirement already satisfied: cachetools<6.0,>=2.0.0 in /Users/jin-holee/github/Jin-HoMLee/shuttle-insights/.venv/lib/python3.11/site-packages (from google-auth<3.0.0,>=2.14.1->google-cloud-aiplatform) (5.5.2)\n",
      "Requirement already satisfied: pyasn1-modules>=0.2.1 in /Users/jin-holee/github/Jin-HoMLee/shuttle-insights/.venv/lib/python3.11/site-packages (from google-auth<3.0.0,>=2.14.1->google-cloud-aiplatform) (0.4.2)\n",
      "Requirement already satisfied: rsa<5,>=3.1.4 in /Users/jin-holee/github/Jin-HoMLee/shuttle-insights/.venv/lib/python3.11/site-packages (from google-auth<3.0.0,>=2.14.1->google-cloud-aiplatform) (4.9.1)\n",
      "Requirement already satisfied: google-cloud-core<3.0.0,>=2.4.1 in /Users/jin-holee/github/Jin-HoMLee/shuttle-insights/.venv/lib/python3.11/site-packages (from google-cloud-bigquery!=3.20.0,<4.0.0,>=1.15.0->google-cloud-aiplatform) (2.4.3)\n",
      "Requirement already satisfied: google-resumable-media<3.0.0,>=2.0.0 in /Users/jin-holee/github/Jin-HoMLee/shuttle-insights/.venv/lib/python3.11/site-packages (from google-cloud-bigquery!=3.20.0,<4.0.0,>=1.15.0->google-cloud-aiplatform) (2.7.2)\n",
      "Requirement already satisfied: python-dateutil<3.0.0,>=2.8.2 in /Users/jin-holee/github/Jin-HoMLee/shuttle-insights/.venv/lib/python3.11/site-packages (from google-cloud-bigquery!=3.20.0,<4.0.0,>=1.15.0->google-cloud-aiplatform) (2.9.0.post0)\n",
      "Requirement already satisfied: grpc-google-iam-v1<1.0.0,>=0.14.0 in /Users/jin-holee/github/Jin-HoMLee/shuttle-insights/.venv/lib/python3.11/site-packages (from google-cloud-resource-manager<3.0.0,>=1.3.3->google-cloud-aiplatform) (0.14.2)\n",
      "Requirement already satisfied: google-crc32c<2.0dev,>=1.0 in /Users/jin-holee/github/Jin-HoMLee/shuttle-insights/.venv/lib/python3.11/site-packages (from google-cloud-storage<3.0.0,>=1.32.0->google-cloud-aiplatform) (1.7.1)\n",
      "Requirement already satisfied: anyio<5.0.0,>=4.8.0 in /Users/jin-holee/github/Jin-HoMLee/shuttle-insights/.venv/lib/python3.11/site-packages (from google-genai<2.0.0,>=1.0.0->google-cloud-aiplatform) (4.9.0)\n",
      "Requirement already satisfied: httpx<1.0.0,>=0.28.1 in /Users/jin-holee/github/Jin-HoMLee/shuttle-insights/.venv/lib/python3.11/site-packages (from google-genai<2.0.0,>=1.0.0->google-cloud-aiplatform) (0.28.1)\n",
      "Requirement already satisfied: tenacity<9.2.0,>=8.2.3 in /Users/jin-holee/github/Jin-HoMLee/shuttle-insights/.venv/lib/python3.11/site-packages (from google-genai<2.0.0,>=1.0.0->google-cloud-aiplatform) (9.1.2)\n",
      "Requirement already satisfied: websockets<15.1.0,>=13.0.0 in /Users/jin-holee/github/Jin-HoMLee/shuttle-insights/.venv/lib/python3.11/site-packages (from google-genai<2.0.0,>=1.0.0->google-cloud-aiplatform) (15.0.1)\n",
      "Requirement already satisfied: idna>=2.8 in /Users/jin-holee/github/Jin-HoMLee/shuttle-insights/.venv/lib/python3.11/site-packages (from anyio<5.0.0,>=4.8.0->google-genai<2.0.0,>=1.0.0->google-cloud-aiplatform) (3.10)\n",
      "Requirement already satisfied: sniffio>=1.1 in /Users/jin-holee/github/Jin-HoMLee/shuttle-insights/.venv/lib/python3.11/site-packages (from anyio<5.0.0,>=4.8.0->google-genai<2.0.0,>=1.0.0->google-cloud-aiplatform) (1.3.1)\n",
      "Requirement already satisfied: certifi in /Users/jin-holee/github/Jin-HoMLee/shuttle-insights/.venv/lib/python3.11/site-packages (from httpx<1.0.0,>=0.28.1->google-genai<2.0.0,>=1.0.0->google-cloud-aiplatform) (2025.4.26)\n",
      "Requirement already satisfied: httpcore==1.* in /Users/jin-holee/github/Jin-HoMLee/shuttle-insights/.venv/lib/python3.11/site-packages (from httpx<1.0.0,>=0.28.1->google-genai<2.0.0,>=1.0.0->google-cloud-aiplatform) (1.0.9)\n",
      "Requirement already satisfied: h11>=0.16 in /Users/jin-holee/github/Jin-HoMLee/shuttle-insights/.venv/lib/python3.11/site-packages (from httpcore==1.*->httpx<1.0.0,>=0.28.1->google-genai<2.0.0,>=1.0.0->google-cloud-aiplatform) (0.16.0)\n",
      "Requirement already satisfied: annotated-types>=0.6.0 in /Users/jin-holee/github/Jin-HoMLee/shuttle-insights/.venv/lib/python3.11/site-packages (from pydantic<3->google-cloud-aiplatform) (0.7.0)\n",
      "Requirement already satisfied: pydantic-core==2.33.2 in /Users/jin-holee/github/Jin-HoMLee/shuttle-insights/.venv/lib/python3.11/site-packages (from pydantic<3->google-cloud-aiplatform) (2.33.2)\n",
      "Requirement already satisfied: typing-inspection>=0.4.0 in /Users/jin-holee/github/Jin-HoMLee/shuttle-insights/.venv/lib/python3.11/site-packages (from pydantic<3->google-cloud-aiplatform) (0.4.1)\n",
      "Requirement already satisfied: six>=1.5 in /Users/jin-holee/github/Jin-HoMLee/shuttle-insights/.venv/lib/python3.11/site-packages (from python-dateutil<3.0.0,>=2.8.2->google-cloud-bigquery!=3.20.0,<4.0.0,>=1.15.0->google-cloud-aiplatform) (1.17.0)\n",
      "Requirement already satisfied: charset-normalizer<4,>=2 in /Users/jin-holee/github/Jin-HoMLee/shuttle-insights/.venv/lib/python3.11/site-packages (from requests<3.0.0,>=2.18.0->google-api-core!=2.0.*,!=2.1.*,!=2.2.*,!=2.3.*,!=2.4.*,!=2.5.*,!=2.6.*,!=2.7.*,<3.0.0,>=1.34.1->google-api-core[grpc]!=2.0.*,!=2.1.*,!=2.2.*,!=2.3.*,!=2.4.*,!=2.5.*,!=2.6.*,!=2.7.*,<3.0.0,>=1.34.1->google-cloud-aiplatform) (3.4.2)\n",
      "Requirement already satisfied: urllib3<3,>=1.21.1 in /Users/jin-holee/github/Jin-HoMLee/shuttle-insights/.venv/lib/python3.11/site-packages (from requests<3.0.0,>=2.18.0->google-api-core!=2.0.*,!=2.1.*,!=2.2.*,!=2.3.*,!=2.4.*,!=2.5.*,!=2.6.*,!=2.7.*,<3.0.0,>=1.34.1->google-api-core[grpc]!=2.0.*,!=2.1.*,!=2.2.*,!=2.3.*,!=2.4.*,!=2.5.*,!=2.6.*,!=2.7.*,<3.0.0,>=1.34.1->google-cloud-aiplatform) (2.4.0)\n",
      "Requirement already satisfied: pyasn1>=0.1.3 in /Users/jin-holee/github/Jin-HoMLee/shuttle-insights/.venv/lib/python3.11/site-packages (from rsa<5,>=3.1.4->google-auth<3.0.0,>=2.14.1->google-cloud-aiplatform) (0.6.1)\n",
      "Requirement already satisfied: numpy>=1.21 in /Users/jin-holee/github/Jin-HoMLee/shuttle-insights/.venv/lib/python3.11/site-packages (from shapely<3.0.0->google-cloud-aiplatform) (1.26.4)\n"
     ]
    }
   ],
   "source": [
    "# Install the Vertex AI SDK if not already installed\n",
    "!pip install -U google-cloud-aiplatform"
   ]
  },
  {
   "cell_type": "code",
   "execution_count": 2,
   "metadata": {},
   "outputs": [],
   "source": [
    "from google.cloud import aiplatform\n",
    "from google.cloud.aiplatform import gapic as aiplatform_gapic\n",
    "import os\n",
    "import config  # import your config file"
   ]
  },
  {
   "cell_type": "markdown",
   "metadata": {},
   "source": [
    "## Set up Vertex AI project and location"
   ]
  },
  {
   "cell_type": "code",
   "execution_count": null,
   "metadata": {},
   "outputs": [],
   "source": [
    "# Update these variables for your setup\n",
    "PROJECT_ID = config.PROJECT_ID\n",
    "REGION = config.REGION\n",
    "MODEL_DISPLAY_NAME = config.MODEL_DISPLAY_NAME\n",
    "GCS_MODEL_URI = config.GCS_MODEL_URI  # Use this instead of GCS_MODEL_PATH for full URI"
   ]
  },
  {
   "cell_type": "code",
   "execution_count": null,
   "metadata": {},
   "outputs": [],
   "source": [
    "# Authenticate (if running outside GCP, e.g. Colab)\n",
    "# from google.colab import auth\n",
    "# auth.authenticate_user()"
   ]
  },
  {
   "cell_type": "code",
   "execution_count": null,
   "metadata": {},
   "outputs": [],
   "source": [
    "# Initialize Vertex AI\n",
    "aiplatform.init(project=PROJECT_ID, location=REGION)"
   ]
  },
  {
   "cell_type": "markdown",
   "metadata": {},
   "source": [
    "## Upload the model to Vertex AI Model Registry"
   ]
  },
  {
   "cell_type": "code",
   "execution_count": null,
   "metadata": {},
   "outputs": [],
   "source": [
    "model = aiplatform.Model.upload(\n",
    "    display_name=MODEL_DISPLAY_NAME,\n",
    "    artifact_uri=GCS_MODEL_PATH,\n",
    "    serving_container_image_uri=\"us-docker.pkg.dev/vertex-ai/prediction/tf2-cpu.2-11:latest\"  # Or tf2-gpu if needed\n",
    ")\n",
    "print(f\"Model resource name: {model.resource_name}\")"
   ]
  },
  {
   "cell_type": "markdown",
   "metadata": {},
   "source": [
    "## Deploy the model to an endpoint"
   ]
  },
  {
   "cell_type": "code",
   "execution_count": null,
   "metadata": {},
   "outputs": [],
   "source": [
    "# Create an endpoint for online prediction\n",
    "endpoint = aiplatform.Endpoint.create(display_name=\"movenet-endpoint\")\n",
    "print(f\"Endpoint resource name: {endpoint.resource_name}\")"
   ]
  },
  {
   "cell_type": "code",
   "execution_count": null,
   "metadata": {},
   "outputs": [],
   "source": [
    "# Deploy the model to the endpoint\n",
    "deployed_model = model.deploy(\n",
    "    endpoint=endpoint,\n",
    "    machine_type=\"n1-standard-2\"  # You can change the machine type\n",
    ")\n",
    "print(f\"Deployed model id: {deployed_model.id}\")"
   ]
  },
  {
   "cell_type": "markdown",
   "metadata": {},
   "source": [
    "## Test Online Prediction\n",
    "\n",
    "Now you can send requests to your endpoint using the Vertex AI SDK or REST API. Example code for sending a test request is available in the [Vertex AI docs](https://cloud.google.com/vertex-ai/docs/predictions/get-online-predictions)."
   ]
  },
  {
   "cell_type": "markdown",
   "metadata": {},
   "source": [
    "**Tip:** For batch prediction, see [Vertex AI batch prediction docs](https://cloud.google.com/vertex-ai/docs/predictions/batch-predictions)."
   ]
  }
 ],
 "metadata": {
  "kernelspec": {
   "display_name": ".venv",
   "language": "python",
   "name": "python3"
  },
  "language_info": {
   "codemirror_mode": {
    "name": "ipython",
    "version": 3
   },
   "file_extension": ".py",
   "mimetype": "text/x-python",
   "name": "python",
   "nbconvert_exporter": "python",
   "pygments_lexer": "ipython3",
   "version": "3.11.3"
  }
 },
 "nbformat": 4,
 "nbformat_minor": 5
}
