{
 "cells": [
  {
   "cell_type": "markdown",
   "metadata": {},
   "source": [
    "# Export MoveNet Multipose Lightning as SavedModel\n",
    "\n",
    "This notebook loads Google’s MoveNet Multipose Lightning from TensorFlow Hub and exports it in TensorFlow SavedModel format."
   ]
  },
  {
   "cell_type": "code",
   "execution_count": 1,
   "metadata": {},
   "outputs": [],
   "source": [
    "# Install dependencies (Colab only)\n",
    "# !pip install tensorflow tensorflow-hub"
   ]
  },
  {
   "cell_type": "code",
   "execution_count": 2,
   "metadata": {},
   "outputs": [],
   "source": [
    "import tensorflow as tf\n",
    "import tensorflow_hub as hub"
   ]
  },
  {
   "cell_type": "markdown",
   "metadata": {},
   "source": [
    "## Load MoveNet Model from TF Hub"
   ]
  },
  {
   "cell_type": "code",
   "execution_count": 3,
   "metadata": {},
   "outputs": [],
   "source": [
    "# Loads MoveNet Multipose Lightning\n",
    "movenet = hub.load(\"https://tfhub.dev/google/movenet/multipose/lightning/1\")"
   ]
  },
  {
   "cell_type": "markdown",
   "metadata": {},
   "source": [
    "## Export as TensorFlow SavedModel"
   ]
  },
  {
   "cell_type": "code",
   "execution_count": 4,
   "metadata": {},
   "outputs": [
    {
     "name": "stdout",
     "output_type": "stream",
     "text": [
      "INFO:tensorflow:Assets written to: ../models/movenet/saved_model/assets\n"
     ]
    },
    {
     "name": "stderr",
     "output_type": "stream",
     "text": [
      "INFO:tensorflow:Assets written to: ../models/movenet/saved_model/assets\n"
     ]
    },
    {
     "name": "stdout",
     "output_type": "stream",
     "text": [
      "Model exported to ../models/movenet/saved_model/\n"
     ]
    }
   ],
   "source": [
    "EXPORT_PATH = '../models/movenet/saved_model'\n",
    "tf.saved_model.save(movenet, EXPORT_PATH, signatures=movenet.signatures['serving_default'])\n",
    "print(f\"Model exported to {EXPORT_PATH}/\")"
   ]
  },
  {
   "cell_type": "markdown",
   "metadata": {},
   "source": [
    "## (Optional) Zip and Download\n",
    "If using Google Colab, zip the exported model for download:"
   ]
  },
  {
   "cell_type": "code",
   "execution_count": 5,
   "metadata": {},
   "outputs": [],
   "source": [
    "# Zip the SavedModel directory\n",
    "# !zip -r saved_model.zip saved_model\n",
    "\n",
    "# Download to local machine\n",
    "# from google.colab import files\n",
    "# files.download('saved_model.zip')"
   ]
  },
  {
   "cell_type": "markdown",
   "metadata": {},
   "source": [
    "## Next steps\n",
    "- Upload `saved_model` or `saved_model.zip` to Google Cloud Storage\n",
    "- Deploy as a custom model to Vertex AI\n",
    "- Test inference via Vertex AI endpoint\n",
    "\n",
    "See your project documentation for instructions on deployment."
   ]
  }
 ],
 "metadata": {
  "kernelspec": {
   "display_name": ".venv",
   "language": "python",
   "name": "python3"
  },
  "language_info": {
   "codemirror_mode": {
    "name": "ipython",
    "version": 3
   },
   "file_extension": ".py",
   "mimetype": "text/x-python",
   "name": "python",
   "nbconvert_exporter": "python",
   "pygments_lexer": "ipython3",
   "version": "3.11.3"
  }
 },
 "nbformat": 4,
 "nbformat_minor": 5
}
