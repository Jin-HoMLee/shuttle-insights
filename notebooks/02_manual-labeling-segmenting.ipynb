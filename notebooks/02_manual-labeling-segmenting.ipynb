{
 "cells": [
  {
   "cell_type": "markdown",
   "id": "efceeeaf",
   "metadata": {},
   "source": [
    "# Manual Labeling & Segmenting"
   ]
  },
  {
   "cell_type": "markdown",
   "id": "ca795ff7",
   "metadata": {},
   "source": [
    "## How to use this notebook:\n",
    "\n",
    "1. Use the slider to move through frames.\n",
    "\n",
    "2. Click Mark Start to mark the start of a shot.\n",
    "\n",
    "3. Move slider to the end frame, click the shot label, then click Mark End.\n",
    "\n",
    "4. Repeat for all shots in the video.\n",
    "\n",
    "5. Click Save Labels to export all labeled segments as a CSV with frame numbers and corresponding seconds."
   ]
  },
  {
   "cell_type": "code",
   "execution_count": null,
   "id": "13292cde",
   "metadata": {},
   "outputs": [
    {
     "data": {
      "application/vnd.jupyter.widget-view+json": {
       "model_id": "ad18083449ac4286a444d1030c7b8b2d",
       "version_major": 2,
       "version_minor": 0
      },
      "text/plain": [
       "IntSlider(value=0, description='Frame', max=21280)"
      ]
     },
     "metadata": {},
     "output_type": "display_data"
    },
    {
     "data": {
      "application/vnd.jupyter.widget-view+json": {
       "model_id": "a34424f3f46647c1bcd5b54762dc79dd",
       "version_major": 2,
       "version_minor": 0
      },
      "text/plain": [
       "Image(value=b'', format='jpeg', height='360', width='640')"
      ]
     },
     "metadata": {},
     "output_type": "display_data"
    },
    {
     "data": {
      "application/vnd.jupyter.widget-view+json": {
       "model_id": "13f0c950802f44dc95dd9573492b6311",
       "version_major": 2,
       "version_minor": 0
      },
      "text/plain": [
       "Button(button_style='success', description='Mark Start', style=ButtonStyle())"
      ]
     },
     "metadata": {},
     "output_type": "display_data"
    },
    {
     "data": {
      "application/vnd.jupyter.widget-view+json": {
       "model_id": "f85783d8407c4468a3c12da83c939043",
       "version_major": 2,
       "version_minor": 0
      },
      "text/plain": [
       "HBox(children=(Button(button_style='primary', description='net shot', style=ButtonStyle()), Button(button_styl…"
      ]
     },
     "metadata": {},
     "output_type": "display_data"
    },
    {
     "data": {
      "application/vnd.jupyter.widget-view+json": {
       "model_id": "23a614760c964d2596abb84a16a423f1",
       "version_major": 2,
       "version_minor": 0
      },
      "text/plain": [
       "Button(button_style='warning', description='Mark End', style=ButtonStyle())"
      ]
     },
     "metadata": {},
     "output_type": "display_data"
    },
    {
     "data": {
      "application/vnd.jupyter.widget-view+json": {
       "model_id": "15f1ac20700b4f0481235fe3ae298c6f",
       "version_major": 2,
       "version_minor": 0
      },
      "text/plain": [
       "Button(button_style='info', description='Save Labels', style=ButtonStyle())"
      ]
     },
     "metadata": {},
     "output_type": "display_data"
    },
    {
     "data": {
      "application/vnd.jupyter.widget-view+json": {
       "model_id": "d0a62f663cdd444facfc201e54159834",
       "version_major": 2,
       "version_minor": 0
      },
      "text/plain": [
       "Output()"
      ]
     },
     "metadata": {},
     "output_type": "display_data"
    }
   ],
   "source": [
    "import cv2\n",
    "import ipywidgets as widgets\n",
    "from IPython.display import display, clear_output\n",
    "import pandas as pd\n",
    "\n",
    "video_file = '【nice angle】Kunlavut Vitidsarn vs Lu Guang Zu -Sin.mp4' # Adjust your video file here\n",
    "video_path = f'../data/raw/{video_file}'  \n",
    "cap = cv2.VideoCapture(video_path)\n",
    "fps = cap.get(cv2.CAP_PROP_FPS)\n",
    "total_frames = int(cap.get(cv2.CAP_PROP_FRAME_COUNT))\n",
    "\n",
    "# Data storage for labels: shot_id, start_frame, end_frame, label\n",
    "labels = []\n",
    "current_shot = {'start': None, 'end': None, 'label': None}\n",
    "shot_counter = 1\n",
    "\n",
    "# Widgets\n",
    "image_widget = widgets.Image(format='jpeg', width=640, height=360)\n",
    "frame_slider = widgets.IntSlider(min=0, max=total_frames - 1, step=1, description='Frame')\n",
    "start_button = widgets.Button(description=\"Mark Start\", button_style='success')\n",
    "end_button = widgets.Button(description=\"Mark End\", button_style='warning')\n",
    "save_button = widgets.Button(description=\"Save Labels\", button_style='info')\n",
    "output = widgets.Output()\n",
    "\n",
    "# Predefined shot labels\n",
    "shot_labels = [\"net shot\", \"lift\", \"clear\", \"smash\", \"drop\", \"drive\", \"block\"]\n",
    "label_buttons = []\n",
    "\n",
    "# Create a button for each shot label\n",
    "def on_label_button_click(label):\n",
    "    current_shot['label'] = label\n",
    "    with output:\n",
    "        clear_output(wait=True)\n",
    "        print(f\"Selected label: {label}\")\n",
    "\n",
    "for label in shot_labels:\n",
    "    button = widgets.Button(description=label, button_style='primary')\n",
    "    button.on_click(lambda b, label=label: on_label_button_click(label))\n",
    "    label_buttons.append(button)\n",
    "\n",
    "def update_frame(change):\n",
    "    frame_no = change['new']\n",
    "    cap.set(cv2.CAP_PROP_POS_FRAMES, frame_no)\n",
    "    ret, frame = cap.read()\n",
    "    if ret:\n",
    "        # Resize for display\n",
    "        h, w = frame.shape[:2]\n",
    "        max_w = 640\n",
    "        scale = max_w / w\n",
    "        frame = cv2.resize(frame, (max_w, int(h*scale)))\n",
    "        _, jpeg = cv2.imencode('.jpg', frame)\n",
    "        image_widget.value = jpeg.tobytes()\n",
    "\n",
    "def mark_start(b):\n",
    "    current_frame = frame_slider.value\n",
    "    current_shot['start'] = current_frame\n",
    "    with output:\n",
    "        clear_output(wait=True)\n",
    "        print(f\"Start frame marked at {current_frame}\")\n",
    "\n",
    "def mark_end(b):\n",
    "    current_frame = frame_slider.value\n",
    "    if current_shot['start'] is None:\n",
    "        with output:\n",
    "            clear_output(wait=True)\n",
    "            print(\"Please mark start frame first!\")\n",
    "        return\n",
    "    if current_frame <= current_shot['start']:\n",
    "        with output:\n",
    "            clear_output(wait=True)\n",
    "            print(\"End frame must be after start frame!\")\n",
    "        return\n",
    "    if current_shot['label'] is None:\n",
    "        with output:\n",
    "            clear_output(wait=True)\n",
    "            print(\"Please select a shot label!\")\n",
    "        return\n",
    "    current_shot['end'] = current_frame\n",
    "    global shot_counter\n",
    "    labels.append({\n",
    "        'shot_id': shot_counter,\n",
    "        'start_frame': current_shot['start'],\n",
    "        'end_frame': current_shot['end'],\n",
    "        'label': current_shot['label']\n",
    "    })\n",
    "    with output:\n",
    "        clear_output(wait=True)\n",
    "        print(f\"Saved shot {shot_counter}: {current_shot}\")\n",
    "    shot_counter += 1\n",
    "    # Reset current shot\n",
    "    current_shot['start'] = None\n",
    "    current_shot['end'] = None\n",
    "    current_shot['label'] = None\n",
    "    # Reset label buttons\n",
    "    for button in label_buttons:\n",
    "        button.disabled = False\n",
    "\n",
    "import os\n",
    "def save_labels(b):\n",
    "    if not labels:\n",
    "        with output:\n",
    "            clear_output(wait=True)\n",
    "            print(\"No labels to save!\")\n",
    "        return\n",
    "    \n",
    "    # Create DataFrame from new labels\n",
    "    df = pd.DataFrame(labels)\n",
    "    df['start_sec'] = df['start_frame'] / fps\n",
    "    df['end_sec'] = df['end_frame'] / fps\n",
    "\n",
    "    # Path to save the CSV\n",
    "    csv_path = '../data/output/manual_labels.csv'\n",
    "\n",
    "    # Check if the CSV file already exists\n",
    "    if os.path.exists(csv_path):\n",
    "        # If it exists, load the existing data and append new data\n",
    "        existing_df = pd.read_csv(csv_path)\n",
    "        df = pd.concat([existing_df, df], ignore_index=True)\n",
    "    \n",
    "    # Save (either new or appended) data to the CSV\n",
    "    df.to_csv(csv_path, index=False)\n",
    "    \n",
    "    with output:\n",
    "        clear_output(wait=True)\n",
    "        print(f\"Labels saved to {csv_path}\")\n",
    "        display(df)\n",
    "\n",
    "\n",
    "# Link widgets\n",
    "frame_slider.observe(update_frame, names='value')\n",
    "start_button.on_click(mark_start)\n",
    "end_button.on_click(mark_end)\n",
    "save_button.on_click(save_labels)\n",
    "\n",
    "# Display interface\n",
    "display(\n",
    "    frame_slider,\n",
    "    image_widget,\n",
    "    start_button,\n",
    "    widgets.HBox(label_buttons),  # Display the shot label buttons\n",
    "    end_button, \n",
    "    save_button,\n",
    "    output,\n",
    ")\n",
    "\n",
    "# Initialize first frame\n",
    "update_frame({'new': 0})"
   ]
  },
  {
   "cell_type": "code",
   "execution_count": null,
   "id": "31428799",
   "metadata": {},
   "outputs": [],
   "source": []
  }
 ],
 "metadata": {
  "kernelspec": {
   "display_name": ".venv",
   "language": "python",
   "name": "python3"
  },
  "language_info": {
   "codemirror_mode": {
    "name": "ipython",
    "version": 3
   },
   "file_extension": ".py",
   "mimetype": "text/x-python",
   "name": "python",
   "nbconvert_exporter": "python",
   "pygments_lexer": "ipython3",
   "version": "3.11.3"
  }
 },
 "nbformat": 4,
 "nbformat_minor": 5
}
