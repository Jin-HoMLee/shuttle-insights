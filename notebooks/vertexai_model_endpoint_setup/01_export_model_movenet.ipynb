{
 "cells": [
  {
   "cell_type": "markdown",
   "metadata": {},
   "source": [
    "# Export MoveNet Multipose Lightning as SavedModel\n",
    "\n",
    "This notebook loads Google’s MoveNet Multipose Lightning from TensorFlow Hub and exports it in TensorFlow SavedModel format."
   ]
  },
  {
   "cell_type": "code",
   "metadata": {},
   "source": [
    "# Install dependencies (Colab only)\n",
    "!pip install tensorflow tensorflow-hub"
   ]
  },
  {
   "cell_type": "code",
   "metadata": {},
   "source": [
    "import tensorflow as tf\n",
    "import tensorflow_hub as hub"
   ]
  },
  {
   "cell_type": "markdown",
   "metadata": {},
   "source": [
    "## Load MoveNet Model from TF Hub"
   ]
  },
  {
   "cell_type": "code",
   "metadata": {},
   "source": [
    "# Loads MoveNet Multipose Lightning\n",
    "movenet = hub.load(\"https://tfhub.dev/google/movenet/multipose/lightning/1\")"
   ]
  },
  {
   "cell_type": "markdown",
   "metadata": {},
   "source": [
    "## Export as TensorFlow SavedModel"
   ]
  },
  {
   "cell_type": "code",
   "metadata": {},
   "source": [
    "EXPORT_PATH = 'saved_model'\n",
    "tf.saved_model.save(movenet, EXPORT_PATH)\n",
    "print(f\"Model exported to {EXPORT_PATH}/\")"
   ]
  },
  {
   "cell_type": "markdown",
   "metadata": {},
   "source": [
    "## (Optional) Zip and Download\n",
    "If using Google Colab, zip the exported model for download:"
   ]
  },
  {
   "cell_type": "code",
   "metadata": {},
   "source": [
    "# Zip the SavedModel directory\n",
    "!zip -r saved_model.zip saved_model\n",
    "\n",
    "# Download to local machine\n",
    "from google.colab import files\n",
    "files.download('saved_model.zip')"
   ]
  },
  {
   "cell_type": "markdown",
   "metadata": {},
   "source": [
    "## Next steps\n",
    "- Upload `saved_model` or `saved_model.zip` to Google Cloud Storage\n",
    "- Deploy as a custom model to Vertex AI\n",
    "- Test inference via Vertex AI endpoint\n",
    "\n",
    "See your project documentation for instructions on deployment."
   ]
  }
 ],
 "metadata": {
  "kernelspec": {
   "display_name": "Python 3",
   "language": "python",
   "name": "python3"
  },
  "language_info": {
   "name": "python",
   "version": "3.x"
  }
 },
 "nbformat": 4,
 "nbformat_minor": 5
}